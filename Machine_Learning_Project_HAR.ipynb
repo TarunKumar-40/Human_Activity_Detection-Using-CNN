{
  "nbformat": 4,
  "nbformat_minor": 0,
  "metadata": {
    "colab": {
      "provenance": [],
      "authorship_tag": "ABX9TyMSBtZTBOxhEaevnxPuR6Ka",
      "include_colab_link": true
    },
    "kernelspec": {
      "name": "python3",
      "display_name": "Python 3"
    },
    "language_info": {
      "name": "python"
    }
  },
  "cells": [
    {
      "cell_type": "markdown",
      "metadata": {
        "id": "view-in-github",
        "colab_type": "text"
      },
      "source": [
        "<a href=\"https://colab.research.google.com/github/TarunKumar-40/Human_Activity_Detection-Using-CNN/blob/main/Machine_Learning_Project_HAR.ipynb\" target=\"_parent\"><img src=\"https://colab.research.google.com/assets/colab-badge.svg\" alt=\"Open In Colab\"/></a>"
      ]
    },
    {
      "cell_type": "code",
      "execution_count": null,
      "metadata": {
        "id": "N65EMb0NIfmC"
      },
      "outputs": [],
      "source": [
        "print(\"Machine Learning Internship\")\n",
        "print(\"Machine Learning Project On Human Acitivity Detection\")"
      ]
    },
    {
      "cell_type": "code",
      "source": [
        "import pandas as pd\n",
        "import numpy as np\n",
        "from matplotlib import pyplot as plt\n",
        "import seaborn as sb\n",
        "\n",
        "test  = pd.read_csv(\"https://s3.amazonaws.com/hackerday.datascience/112/test.csv\")  \n",
        "train = pd.read_csv(\"https://s3.amazonaws.com/hackerday.datascience/112/train.csv\") "
      ],
      "metadata": {
        "id": "RRwn4qJYJCju"
      },
      "execution_count": null,
      "outputs": []
    },
    {
      "cell_type": "code",
      "source": [
        "train"
      ],
      "metadata": {
        "id": "2Jg3rF_y2ixl"
      },
      "execution_count": null,
      "outputs": []
    },
    {
      "cell_type": "code",
      "source": [
        "test"
      ],
      "metadata": {
        "id": "YulMYHWx2zLN"
      },
      "execution_count": null,
      "outputs": []
    },
    {
      "cell_type": "code",
      "source": [
        "train.head()"
      ],
      "metadata": {
        "id": "bPOV4AwzJPe2"
      },
      "execution_count": null,
      "outputs": []
    },
    {
      "cell_type": "code",
      "source": [
        "train.Activity.value_counts()"
      ],
      "metadata": {
        "id": "3eUae5VSJUJX"
      },
      "execution_count": null,
      "outputs": []
    },
    {
      "cell_type": "code",
      "source": [
        "train.shape,test.shape"
      ],
      "metadata": {
        "id": "46kELw7tviyO"
      },
      "execution_count": null,
      "outputs": []
    },
    {
      "cell_type": "code",
      "source": [
        "test.Activity.value_counts()"
      ],
      "metadata": {
        "id": "wYEkveO3vo6F"
      },
      "execution_count": null,
      "outputs": []
    },
    {
      "cell_type": "code",
      "source": [
        "# suffling data \n",
        "from sklearn.utils import shuffle\n",
        "\n",
        "test  = shuffle(test)\n",
        "train = shuffle(train)"
      ],
      "metadata": {
        "id": "bulbxP1lvtx0"
      },
      "execution_count": null,
      "outputs": []
    },
    {
      "cell_type": "code",
      "source": [
        "# separating data inputs and output lables \n",
        "trainData  = train.drop('Activity' , axis=1).values\n",
        "trainLabel = train.Activity.values\n",
        "\n",
        "testData  = test.drop('Activity' , axis=1).values\n",
        "testLabel = test.Activity.values\n"
      ],
      "metadata": {
        "id": "DFIJ5is2vxN3"
      },
      "execution_count": null,
      "outputs": []
    },
    {
      "cell_type": "code",
      "source": [
        "# encoding labels \n",
        "from sklearn import preprocessing\n",
        "\n",
        "encoder = preprocessing.LabelEncoder()\n",
        "\n",
        "# encoding test labels \n",
        "encoder.fit(testLabel)\n",
        "testLabelE = encoder.transform(testLabel)\n",
        "\n",
        "# encoding train labels \n",
        "encoder.fit(trainLabel)\n",
        "trainLabelE = encoder.transform(trainLabel)"
      ],
      "metadata": {
        "id": "430-g58lv0XB"
      },
      "execution_count": null,
      "outputs": []
    },
    {
      "cell_type": "code",
      "source": [
        "# applying supervised neural network using multi-layer preceptron \n",
        "import sklearn.neural_network as nn \n",
        "mlpSGD  =  nn.MLPClassifier(hidden_layer_sizes=(90,), max_iter=1000 , alpha=1e-4, solver='sgd' , verbose=10 , tol=1e-19 , random_state=1 , learning_rate_init=0.001)"
      ],
      "metadata": {
        "id": "9L7N7N71v8C8"
      },
      "execution_count": null,
      "outputs": []
    },
    {
      "cell_type": "code",
      "source": [
        "mlpADAM =  nn.MLPClassifier(hidden_layer_sizes=(90,), max_iter=1000 , alpha=1e-4, solver='adam' , verbose=10, tol=1e-19 , random_state=1, learning_rate_init=0.001) "
      ],
      "metadata": {
        "id": "YrTyRLG7wAVU"
      },
      "execution_count": null,
      "outputs": []
    },
    {
      "cell_type": "code",
      "source": [
        "mlpLBFGS =  nn.MLPClassifier(hidden_layer_sizes=(90,) , max_iter=1000 , alpha=1e-4, solver='lbfgs' , verbose=10 , tol=1e-19 , random_state=1, learning_rate_init=0.001) "
      ],
      "metadata": {
        "id": "qTlEjGZjwDPT"
      },
      "execution_count": null,
      "outputs": []
    },
    {
      "cell_type": "code",
      "source": [
        "nnModelSGD  = mlpSGD.fit(trainData , trainLabelE)"
      ],
      "metadata": {
        "id": "mmgwdrFYwHg-"
      },
      "execution_count": null,
      "outputs": []
    },
    {
      "cell_type": "code",
      "source": [
        "nnModelSGD  = mlpLBFGS.fit(trainData , trainLabelE)\n",
        "nnModelSGD"
      ],
      "metadata": {
        "id": "gjXrISjxwKvM"
      },
      "execution_count": null,
      "outputs": []
    },
    {
      "cell_type": "code",
      "source": [
        "nnModelADAM = mlpADAM.fit(trainData , trainLabelE)"
      ],
      "metadata": {
        "id": "c7-ncdHGwUoc"
      },
      "execution_count": null,
      "outputs": []
    },
    {
      "cell_type": "code",
      "source": [
        "import pandas as pd\n",
        "import numpy as np\n",
        "from matplotlib import pyplot as plt\n",
        "import seaborn as sb\n",
        "%matplotlib inline"
      ],
      "metadata": {
        "id": "O2VvBU_LwgQi"
      },
      "execution_count": null,
      "outputs": []
    },
    {
      "cell_type": "code",
      "source": [
        "train = pd.read_csv(\"https://s3.amazonaws.com/hackerday.datascience/112/train.csv\")\n",
        "test = pd.read_csv(\"https://s3.amazonaws.com/hackerday.datascience/112/test.csv\")\n",
        "print('Train Data', train.shape,'\\n', train.columns)\n",
        "print('\\nTest Data', test.shape)"
      ],
      "metadata": {
        "id": "FwIrSNv9wmV7"
      },
      "execution_count": null,
      "outputs": []
    },
    {
      "cell_type": "code",
      "source": [
        "print('Train labels', train['Activity'].unique(), '\\nTest Labels', test['Activity'].unique())"
      ],
      "metadata": {
        "id": "4hWeZxNDwrCl"
      },
      "execution_count": null,
      "outputs": []
    },
    {
      "cell_type": "code",
      "source": [
        "pd.crosstab(train.subject, train.Activity)"
      ],
      "metadata": {
        "id": "AQU_nSYMwy0r"
      },
      "execution_count": null,
      "outputs": []
    },
    {
      "cell_type": "code",
      "source": [
        "sub15 = train.loc[train['subject']==1]\n",
        "sub15.head()"
      ],
      "metadata": {
        "id": "_bvNo5Qxw2-r"
      },
      "execution_count": null,
      "outputs": []
    },
    {
      "cell_type": "code",
      "source": [
        "train.head()"
      ],
      "metadata": {
        "id": "dHL8oY7Aw54y"
      },
      "execution_count": null,
      "outputs": []
    },
    {
      "cell_type": "code",
      "source": [
        "train.subject.value_counts()"
      ],
      "metadata": {
        "id": "0O-ifztjw9fi"
      },
      "execution_count": null,
      "outputs": []
    },
    {
      "cell_type": "code",
      "source": [
        "fig = plt.figure(figsize=(32,24))\n",
        "ax1 = fig.add_subplot(221)\n",
        "ax1 = sb.stripplot(x='Activity', y=sub15.iloc[:,0], data=sub15, jitter=True)\n",
        "ax2 = fig.add_subplot(222)\n",
        "ax2 = sb.stripplot(x='Activity', y=sub15.iloc[:,1], data=sub15, jitter=True)\n",
        "plt.show()"
      ],
      "metadata": {
        "id": "XwzFL8_OxBYJ"
      },
      "execution_count": null,
      "outputs": []
    },
    {
      "cell_type": "code",
      "source": [
        "fig = plt.figure(figsize=(32,24))\n",
        "ax1 = fig.add_subplot(221)\n",
        "ax1 = sb.stripplot(x='Activity', y=sub15.iloc[:,2], data=sub15, jitter=True)\n",
        "ax2 = fig.add_subplot(222)\n",
        "ax2 = sb.stripplot(x='Activity', y=sub15.iloc[:,3], data=sub15, jitter=True)\n",
        "plt.show()"
      ],
      "metadata": {
        "id": "tH_OW-p5xEcV"
      },
      "execution_count": null,
      "outputs": []
    },
    {
      "cell_type": "code",
      "source": [
        "fig = plt.figure(figsize=(32,24))\n",
        "ax1 = fig.add_subplot(221)\n",
        "ax1 = sb.stripplot(x='Activity', y=sub15.iloc[:,4], data=sub15, jitter=True)\n",
        "ax2 = fig.add_subplot(222)\n",
        "ax2 = sb.stripplot(x='Activity', y=sub15.iloc[:,5], data=sub15, jitter=True)\n",
        "plt.show()"
      ],
      "metadata": {
        "id": "1tf7nLQ2xFkH"
      },
      "execution_count": null,
      "outputs": []
    },
    {
      "cell_type": "code",
      "source": [
        "import numpy as np \n",
        "import pandas as pd \n",
        "\n",
        "train_df = pd.read_csv(\"https://s3.amazonaws.com/hackerday.datascience/112/train.csv\")\n",
        "test_df = pd.read_csv(\"https://s3.amazonaws.com/hackerday.datascience/112/test.csv\")\n",
        "train_df.columns"
      ],
      "metadata": {
        "id": "Y44tc_9CxKtU"
      },
      "execution_count": null,
      "outputs": []
    },
    {
      "cell_type": "code",
      "source": [
        "unique_activities = train_df.Activity.unique()\n",
        "print(\"NUmber of unique activities: {}\".format(len(unique_activities)))\n",
        "replacer = {}\n",
        "for i, activity in enumerate(unique_activities):\n",
        "    replacer[activity] = i\n",
        "train_df.Activity = train_df.Activity.replace(replacer)\n",
        "test_df.Activity = test_df.Activity.replace(replacer)\n",
        "train_df.head(10)\n"
      ],
      "metadata": {
        "id": "Zyeu5vIexNVF"
      },
      "execution_count": null,
      "outputs": []
    },
    {
      "cell_type": "code",
      "source": [
        "def get_all_data():\n",
        "    train_values = train_df.values\n",
        "    test_values = test_df.values\n",
        "    np.random.shuffle(train_values)\n",
        "    np.random.shuffle(test_values)\n",
        "    X_train = train_values[:, :-1]\n",
        "    X_test = test_values[:, :-1]\n",
        "    y_train = train_values[:, -1]\n",
        "    y_test = test_values[:, -1]\n",
        "    return X_train, X_test, y_train, y_test"
      ],
      "metadata": {
        "id": "8geF82pmxPQU"
      },
      "execution_count": null,
      "outputs": []
    },
    {
      "cell_type": "code",
      "source": [
        "from sklearn.linear_model import LogisticRegression\n",
        "X_train, X_test, y_train, y_test = get_all_data()\n",
        "\n"
      ],
      "metadata": {
        "id": "ewNkJpWbxTSq"
      },
      "execution_count": null,
      "outputs": []
    },
    {
      "cell_type": "code",
      "source": [
        "model = LogisticRegression(C=10)\n",
        "model"
      ],
      "metadata": {
        "id": "1g4egzThxYO2"
      },
      "execution_count": null,
      "outputs": []
    },
    {
      "cell_type": "code",
      "source": [
        "model = LogisticRegression()\n",
        "model"
      ],
      "metadata": {
        "id": "6tnELDEsxc3Z"
      },
      "execution_count": null,
      "outputs": []
    },
    {
      "cell_type": "code",
      "source": [
        "model.fit(X_train, y_train)\n"
      ],
      "metadata": {
        "id": "lUhbD_NixiR6"
      },
      "execution_count": null,
      "outputs": []
    },
    {
      "cell_type": "code",
      "source": [
        "model.score(X_test, y_test)"
      ],
      "metadata": {
        "id": "RQHd4M2QxtSV"
      },
      "execution_count": null,
      "outputs": []
    },
    {
      "cell_type": "code",
      "source": [
        "from sklearn.decomposition import PCA\n",
        "\n",
        "X_train, X_test, y_train, y_test = get_all_data()\n",
        "pca = PCA(n_components=200) \n",
        "pca.fit(X_train) \n",
        "X_train = pca.transform(X_train)\n",
        "X_test = pca.transform(X_test)\n",
        "model.fit(X_train, y_train)\n",
        "model.score(X_test, y_test)"
      ],
      "metadata": {
        "id": "MOTwvbyOxwuS"
      },
      "execution_count": null,
      "outputs": []
    },
    {
      "cell_type": "code",
      "source": [
        "from sklearn.preprocessing import StandardScaler\n",
        "scaler = StandardScaler()\n",
        "X_train, X_test, y_train, y_test = get_all_data()\n",
        "scaler.fit(X_train)\n",
        "X_train = scaler.transform(X_train)\n",
        "X_test = scaler.transform(X_test)\n",
        "model.fit(X_train, y_train)\n",
        "model.score(X_test, y_test)"
      ],
      "metadata": {
        "id": "dQwwbgS0x4Nt"
      },
      "execution_count": null,
      "outputs": []
    },
    {
      "cell_type": "code",
      "source": [
        "from keras.models import Sequential\n",
        "from keras.layers import Dense\n",
        "from keras.wrappers.scikit_learn import KerasClassifier\n",
        "from keras.utils.np_utils import to_categorical"
      ],
      "metadata": {
        "id": "Tt5B01CRx_Xz"
      },
      "execution_count": null,
      "outputs": []
    },
    {
      "cell_type": "code",
      "source": [
        "X_train, X_test, y_train, y_test = get_all_data()\n",
        "scaler.fit(X_train)\n",
        "X_train = scaler.transform(X_train)\n",
        "X_test = scaler.transform(X_test)"
      ],
      "metadata": {
        "id": "_Nto8TJayBpO"
      },
      "execution_count": null,
      "outputs": []
    },
    {
      "cell_type": "code",
      "source": [
        "n_input = X_train.shape[1]\n",
        "n_output = 6 \n",
        "n_samples = X_train.shape[0] \n",
        "n_hidden_units = 40\n",
        "Y_train = to_categorical(y_train)\n",
        "Y_test = to_categorical(y_test)\n",
        "print(Y_train.shape)\n",
        "print(Y_test.shape)"
      ],
      "metadata": {
        "id": "JMm00rXOyELY"
      },
      "execution_count": null,
      "outputs": []
    },
    {
      "cell_type": "code",
      "source": [
        "def create_model():\n",
        "    model = Sequential()\n",
        "    model.add(Dense(n_hidden_units,\n",
        "                    input_dim=n_input,\n",
        "                    activation=\"relu\"))\n",
        "    model.add(Dense(n_hidden_units,\n",
        "                    input_dim=n_input,\n",
        "                    activation=\"relu\"))\n",
        "    model.add(Dense(n_output, activation=\"softmax\"))\n",
        "    # Compile model\n",
        "    model.compile(loss=\"categorical_crossentropy\", optimizer=\"adam\", metrics=['accuracy'])\n",
        "    return model"
      ],
      "metadata": {
        "id": "YqzeO3V0yGYp"
      },
      "execution_count": null,
      "outputs": []
    },
    {
      "cell_type": "code",
      "source": [
        "estimator = KerasClassifier(build_fn=create_model, epochs=20, batch_size=10, verbose=False)\n",
        "estimator.fit(X_train, Y_train)\n",
        "print(\"Score: {}\".format(estimator.score(X_test, Y_test)))"
      ],
      "metadata": {
        "id": "_S9yXNUkyPi_"
      },
      "execution_count": null,
      "outputs": []
    },
    {
      "cell_type": "code",
      "source": [
        "from sklearn.ensemble import RandomForestClassifier\n",
        "\n",
        "X_train, X_test, y_train, y_test = get_all_data()\n",
        "scaler.fit(X_train)\n",
        "X_train = scaler.transform(X_train)\n",
        "X_test = scaler.transform(X_test)\n",
        "\n",
        "model = RandomForestClassifier(n_estimators=500)\n",
        "model.fit(X_train, y_train)\n",
        "model.score(X_test, y_test)"
      ],
      "metadata": {
        "id": "hdS4_2MgyS9k"
      },
      "execution_count": null,
      "outputs": []
    },
    {
      "cell_type": "code",
      "source": [
        "import numpy as np # linear algebra\n",
        "import pandas as pd # data processing, CSV file I/O (e.g. pd.read_csv)\n",
        "\n",
        "from sklearn.preprocessing import StandardScaler,LabelEncoder\n",
        "from sklearn.ensemble import RandomForestClassifier\n",
        "from sklearn.metrics import accuracy_score\n",
        "from sklearn.neighbors import KNeighborsClassifier\n",
        "\n",
        "from keras.models import Sequential\n",
        "from keras.layers import Dense, Dropout, Activation\n",
        "import keras.optimizers \n",
        "#from keras.optimizers import SGD,Adam"
      ],
      "metadata": {
        "id": "tRuQb4WSyen4"
      },
      "execution_count": null,
      "outputs": []
    },
    {
      "cell_type": "code",
      "source": [
        "#Feature matrix\n",
        "train_data = train.iloc[:,:561]\n",
        "test_data = test.iloc[:,:561]\n",
        "\n",
        "train_labels = train.iloc[:,562:]\n",
        "test_labels = test.iloc[:,562:]\n",
        "train_labelss=np.zeros((len(train_labels),6))\n",
        "test_labelss=np.zeros((len(test_labels),6))"
      ],
      "metadata": {
        "id": "PefzneSgyhfO"
      },
      "execution_count": null,
      "outputs": []
    },
    {
      "cell_type": "code",
      "source": [
        "###### Random Forest #######\n",
        "trainData  = train.drop('Activity' , axis=1).values\n",
        "trainLabel = train.Activity.values\n",
        "\n",
        "testData  = test.drop('Activity' , axis=1).values\n",
        "testLabel = test.Activity.values\n",
        "\n",
        "encoder = LabelEncoder()"
      ],
      "metadata": {
        "id": "RL5Lr1wpy2Sl"
      },
      "execution_count": null,
      "outputs": []
    },
    {
      "cell_type": "code",
      "source": [
        "# encoding test labels \n",
        "encoder.fit(testLabel)\n",
        "testLabelEncoder = encoder.transform(testLabel)\n",
        "\n",
        "# encoding train labels \n",
        "encoder.fit(trainLabel)\n",
        "trainLabelEncoder = encoder.transform(trainLabel)\n",
        "\n",
        "rf = RandomForestClassifier(n_estimators=200,  n_jobs=4, min_samples_leaf=10)    \n",
        "#train\n",
        "rf.fit(trainData, trainLabelEncoder)\n",
        "\n",
        "y_te_pred = rf.predict(testData)\n",
        "\n",
        "acc = accuracy_score(testLabelEncoder, y_te_pred)\n",
        "print(\"Random Forest Accuracy: %.5f\" % (acc))\n"
      ],
      "metadata": {
        "id": "mQchXCtey5SD"
      },
      "execution_count": null,
      "outputs": []
    },
    {
      "cell_type": "code",
      "source": [
        "##### K-Nearest Neighbors ######\n",
        "clf = KNeighborsClassifier(n_neighbors=24)\n",
        "\n",
        "knnModel = clf.fit(trainData , trainLabelEncoder)\n",
        "y_te_pred = clf.predict(testData)\n",
        "\n",
        "acc = accuracy_score(testLabelEncoder, y_te_pred)\n",
        "print(\"K-Nearest Neighbors Accuracy: %.5f\" % (acc))"
      ],
      "metadata": {
        "id": "whOaxSlRy8li"
      },
      "execution_count": null,
      "outputs": []
    },
    {
      "cell_type": "code",
      "source": [
        "import numpy as np\n",
        "import pandas as pd\n",
        "import time"
      ],
      "metadata": {
        "id": "SEw2PUEXzG_M"
      },
      "execution_count": null,
      "outputs": []
    },
    {
      "cell_type": "code",
      "source": [
        "print(\"Number of features in Train : \", train.shape[1])\n",
        "print(\"Number of records  in Train : \",train.shape[0])\n",
        "print(\"Number of features in Test  : \",test.shape[1])\n",
        "print(\"Number of records  in Test  : \",test.shape[0])\n",
        "\n",
        "trainData  = train.drop(['subject','Activity'] , axis=1).values\n",
        "trainLabel = train.Activity.values\n",
        "\n",
        "testData  = test.drop(['subject','Activity'] , axis=1).values\n",
        "testLabel = test.Activity.values\n",
        "\n",
        "print(\"Train Data shape  : \",trainData.shape)\n",
        "print(\"Train Label shape : \",trainLabel.shape)\n",
        "print(\"Test Data  shape  : \",testData.shape)\n",
        "print(\"Test Label shape  : \",testLabel.shape)\n",
        "\n",
        "print(\"Label examples: \")\n",
        "print(np.unique(trainLabel))"
      ],
      "metadata": {
        "id": "5YTJq8nYzLnA"
      },
      "execution_count": null,
      "outputs": []
    },
    {
      "cell_type": "code",
      "source": [
        "from sklearn import preprocessing\n",
        "from sklearn import utils\n",
        "\n",
        "ltrain = preprocessing.LabelEncoder()\n",
        "ltest = preprocessing.LabelEncoder()\n",
        "\n",
        "trainLabel = ltrain.fit_transform(trainLabel)\n",
        "testLabel  = ltest.fit_transform(testLabel)\n",
        "\n",
        "print(np.unique(trainLabel))\n",
        "print(np.unique(testLabel))\n",
        "print(\"Train Label shape : \",trainLabel.shape)\n",
        "print(\"Test Label shape  : \",testLabel.shape)\n",
        "print(utils.multiclass.type_of_target(testLabel))"
      ],
      "metadata": {
        "id": "9YpSJrwQzT4G"
      },
      "execution_count": null,
      "outputs": []
    },
    {
      "cell_type": "code",
      "source": [
        "import matplotlib.pyplot as plt\n",
        "%matplotlib inline\n",
        "from sklearn.svm import SVC\n",
        "from sklearn.model_selection import StratifiedKFold\n",
        "from sklearn.feature_selection import RFECV\n",
        "from sklearn.utils import shuffle"
      ],
      "metadata": {
        "id": "S6DHeOUtzaFW"
      },
      "execution_count": null,
      "outputs": []
    },
    {
      "cell_type": "code",
      "source": [
        "t0 = time.clock()\n",
        "# Create the RFE object and compute a cross-validated score.\n",
        "svc = SVC(kernel=\"linear\")\n",
        "# The \"accuracy\" scoring is proportional to the number of correct\n",
        "# classifications\n",
        "rfecv = RFECV(estimator=svc, step=1, cv=StratifiedKFold(6),\n",
        "              scoring='accuracy')\n",
        "# Before training the data it is convenient to shuffle the data in training\n",
        "np.random.seed(1)\n",
        "print(\"Labels before Shuffle\",testLabel[0:5])\n",
        "testData,testLabel = shuffle(testData,testLabel)\n",
        "trainData,trainLabel = shuffle(trainData,trainLabel)\n",
        "print(\"Labels after Shuffle\",testLabel[0:5])"
      ],
      "metadata": {
        "id": "1KA3chNozcd_"
      },
      "execution_count": null,
      "outputs": []
    },
    {
      "cell_type": "code",
      "source": [
        "# train and fit data in the model\n",
        "rfecv.fit(trainData, trainLabel)\n",
        "\n",
        "print(\"Optimal number of features : %d\" % rfecv.n_features_)\n",
        "print(\"Processing time sec \",time.clock() - t0)\n"
      ],
      "metadata": {
        "id": "r8YQ4AECznEv"
      },
      "execution_count": null,
      "outputs": []
    },
    {
      "cell_type": "code",
      "source": [
        "# Plot number of features VS. cross-validation scores\n",
        "plt.figure(figsize=(32,12))\n",
        "plt.xlabel(\"Number of features selected\")\n",
        "plt.ylabel(\"Cross validation score (nb of correct classifications)\")\n",
        "plt.plot(range(1, len(rfecv.grid_scores_) + 1), rfecv.grid_scores_)\n",
        "plt.show()"
      ],
      "metadata": {
        "id": "9qGvJrjOzp_C"
      },
      "execution_count": null,
      "outputs": []
    },
    {
      "cell_type": "code",
      "source": [
        "print('Accuracy of the SVM model on test data is ', rfecv.score(testData,testLabel) )\n",
        "print('Ranking of features starting from the best estimated \\n',rfecv.ranking_)\n",
        "# if we mask the features to get only the best we get this\n",
        "best_features = []\n",
        "for ix,val in enumerate(rfecv.support_):\n",
        "    if val==True:\n",
        "        best_features.append(testData[:,ix])"
      ],
      "metadata": {
        "id": "fCEV1ulw0ArV"
      },
      "execution_count": null,
      "outputs": []
    },
    {
      "cell_type": "code",
      "source": [
        "import pandas as pd\n",
        "#from pd import scatter_matrix\n",
        "visualize = pd.DataFrame(np.asarray(best_features).T)\n",
        "print(visualize.shape)"
      ],
      "metadata": {
        "id": "7P0kSbp10D7R"
      },
      "execution_count": null,
      "outputs": []
    },
    {
      "cell_type": "code",
      "source": [
        "import numpy as np # linear algebra\n",
        "import pandas as pd \n",
        "import tensorflow as tf\n",
        "from sklearn.utils import shuffle\n",
        "from sklearn.preprocessing import LabelBinarizer"
      ],
      "metadata": {
        "id": "uEdfOAgO0GLh"
      },
      "execution_count": null,
      "outputs": []
    },
    {
      "cell_type": "code",
      "source": [
        "train = shuffle(train)\n",
        "test = shuffle(test)"
      ],
      "metadata": {
        "id": "7CYU3Yy70IN-"
      },
      "execution_count": null,
      "outputs": []
    },
    {
      "cell_type": "code",
      "source": [
        "train_features = train.iloc[:,:562]\n",
        "test_features = test.iloc[:,:562]\n",
        "\n",
        "binarizer = LabelBinarizer().fit(train['Activity'])\n",
        "train_labels = binarizer.transform(train.Activity)\n",
        "test_labels = binarizer.transform(test.Activity)"
      ],
      "metadata": {
        "id": "teDNkVBX0Kcc"
      },
      "execution_count": null,
      "outputs": []
    },
    {
      "cell_type": "code",
      "source": [
        "def weight_variable(shape):\n",
        "    \n",
        "    return tf.Variable(tf.truncated_normal(shape, stddev=0.1))\n",
        "\n",
        "def bias_variable(shape):\n",
        "    \n",
        "    return tf.Variable(tf.truncated_normal(shape, stddev=0.1))\n",
        "\n",
        "def add_layer(inputs, input_size, output_size, activation=None):\n",
        "    \n",
        "    W = weight_variable([input_size, output_size])\n",
        "    b = bias_variable([output_size])\n",
        "    wxb = tf.matmul(inputs, W) + b\n",
        "    if activation:\n",
        "        \n",
        "        return activation(wxb)\n",
        "    \n",
        "    else:\n",
        "        \n",
        "        return wxb"
      ],
      "metadata": {
        "id": "YZ3xyIRP0gw3"
      },
      "execution_count": null,
      "outputs": []
    },
    {
      "cell_type": "code",
      "source": [
        "#seperating class label from the dataset\n",
        "\n",
        "trainLabels= train.Activity.values\n",
        "trainData=train.drop(\"Activity\",axis=1).values\n",
        "\n",
        "testLabels= test.Activity.values\n",
        "testData=test.drop(\"Activity\",axis=1).values\n",
        "\n",
        "print(\"Class labels striped off the dataset\")"
      ],
      "metadata": {
        "id": "ofa6OIvm0p0z"
      },
      "execution_count": null,
      "outputs": []
    },
    {
      "cell_type": "code",
      "source": [
        "#transforming non-numerical labels to numerical labels using sklearn.preprocessing.LabelEncoder\n",
        "\n",
        "from sklearn import preprocessing\n",
        "labelEncoder= preprocessing.LabelEncoder()\n",
        "\n",
        "labelEncoder.fit(trainLabels)\n",
        "trainLabelsE=labelEncoder.transform(trainLabels)\n",
        "\n",
        "labelEncoder.fit(testLabels)\n",
        "testLabelsE=labelEncoder.transform(testLabels)\n",
        "\n",
        "print(\"Labels Transformed and Encoded\")"
      ],
      "metadata": {
        "id": "lbFU11Rx0r-S"
      },
      "execution_count": null,
      "outputs": []
    },
    {
      "cell_type": "code",
      "source": [
        "#applying k-nearest neighbours\n",
        "from sklearn.neighbors import KNeighborsClassifier as knn\n",
        "import numpy as np\n",
        "\n",
        "knnScoreDistance=np.zeros(51)\n",
        "knnScoreUniform=np.zeros(51)\n",
        "\n",
        "for num in range(5,51):\n",
        "    knnclf = knn(n_neighbors=num, weights='distance')\n",
        "    knnModel = knnclf.fit(trainData , trainLabelsE)\n",
        "    knnScoreDistance[num]=knnModel.score(testData  , testLabelsE )\n",
        "    print(\"Testing  set score for KNN_Distance(k=%d): %f\" %(num,knnScoreDistance[num]))\n",
        "    \n",
        "for num in range(5,51):\n",
        "    knnclf = knn(n_neighbors=num, weights='uniform')\n",
        "    knnModel = knnclf.fit(trainData , trainLabelsE)\n",
        "    knnScoreUniform[num]=knnModel.score(testData  , testLabelsE )\n",
        "    print(\"Testing  set score for KNN_Uniform(k=%d): %f\" %(num,knnScoreUniform[num]))"
      ],
      "metadata": {
        "id": "Zd-WemZt0wDB"
      },
      "execution_count": null,
      "outputs": []
    },
    {
      "cell_type": "code",
      "source": [
        "import matplotlib.pyplot as plt\n",
        "\n",
        "x=np.array(range(5,51))\n",
        "\n",
        "plt.plot(x,knnScoreDistance[5:])\n",
        "plt.plot(x,knnScoreUniform[5:])\n",
        "plt.xlabel(\"No of neighbors (K)\")\n",
        "plt.ylabel(\"Test Data Mean Accuracy\")\n",
        "plt.legend(['KNN_Distance','KNN_Uniform'])\n",
        "plt.show"
      ],
      "metadata": {
        "id": "vs-uID-m05GY"
      },
      "execution_count": null,
      "outputs": []
    },
    {
      "cell_type": "code",
      "source": [
        "import itertools\n",
        "import numpy as np\n",
        "import matplotlib.pyplot as plt\n",
        "def plot_confusion_matrix(cm, classes,\n",
        "                          normalize=False,\n",
        "                          title='Confusion matrix',\n",
        "                          cmap=plt.cm.Blues):\n",
        "  \n",
        "    plt.imshow(cm, interpolation='nearest', cmap=cmap)\n",
        "    plt.title(title)\n",
        "    plt.colorbar()\n",
        "    tick_marks = np.arange(len(classes))\n",
        "    plt.xticks(tick_marks, classes, rotation=45)\n",
        "    plt.yticks(tick_marks, classes)\n",
        "\n",
        "    if normalize:\n",
        "        cm = cm.astype('float') / cm.sum(axis=1)[:, np.newaxis]\n",
        "        print(\"Normalized confusion matrix\")\n",
        "    else:\n",
        "        print('Confusion matrix, without normalization')\n",
        "\n",
        "    print(cm)\n",
        "\n",
        "    thresh = cm.max() / 2.\n",
        "    for i, j in itertools.product(range(cm.shape[0]), range(cm.shape[1])):\n",
        "        plt.text(j, i, cm[i, j],\n",
        "                 horizontalalignment=\"center\",\n",
        "                 color=\"white\" if cm[i, j] > thresh else \"black\")\n",
        "\n",
        "    plt.tight_layout()\n",
        "    plt.ylabel('True label')\n",
        "    plt.xlabel('Predicted label')"
      ],
      "metadata": {
        "id": "zIdz28SI09Ve"
      },
      "execution_count": null,
      "outputs": []
    },
    {
      "cell_type": "code",
      "source": [
        "from sklearn.tree import DecisionTreeClassifier\n",
        "from sklearn.metrics import accuracy_score,confusion_matrix\n",
        "\n",
        "decsnTreeClf= DecisionTreeClassifier(criterion='entropy')\n",
        "tree=decsnTreeClf.fit(trainData,trainLabelsE)\n",
        "testPred=tree.predict(testData)\n",
        "\n",
        "acc= accuracy_score(testLabelsE,testPred)\n",
        "cfs = confusion_matrix(testLabelsE, testPred)\n",
        "\n",
        "print(\"Accuracy: %f\" %acc)\n",
        "\n",
        "plt.figure()\n",
        "class_names = labelEncoder.classes_\n",
        "plot_confusion_matrix(cfs, classes=class_names,\n",
        "                      title='DecisionTree Confusion Matrix, without normalization')"
      ],
      "metadata": {
        "id": "z05_1qJb0_3b"
      },
      "execution_count": null,
      "outputs": []
    },
    {
      "cell_type": "code",
      "source": [
        "decsnTreeClf= DecisionTreeClassifier()\n",
        "tree=decsnTreeClf.fit(trainData,trainLabelsE)\n",
        "testPred=tree.predict(testData)\n",
        "\n",
        "acc= accuracy_score(testLabelsE,testPred)\n",
        "cfs = confusion_matrix(testLabelsE, testPred)\n",
        "\n",
        "print(\"Accuracy: %f\" %acc)\n",
        "\n",
        "plt.figure()\n",
        "class_names = labelEncoder.classes_\n",
        "plot_confusion_matrix(cfs, classes=class_names,\n",
        "                      title='DecisionTree Confusion Matrix, without normalization')"
      ],
      "metadata": {
        "id": "zL78Kqyo1EoG"
      },
      "execution_count": null,
      "outputs": []
    },
    {
      "cell_type": "code",
      "source": [
        "train_df.shape"
      ],
      "metadata": {
        "id": "9Qaig0cj1Nno"
      },
      "execution_count": null,
      "outputs": []
    },
    {
      "cell_type": "code",
      "source": [
        "X, y = train_df.iloc[:, 0:len(train_df.columns) - 1], train_df.iloc[:, -1]"
      ],
      "metadata": {
        "id": "VAF3nLTx1Qfh"
      },
      "execution_count": null,
      "outputs": []
    },
    {
      "cell_type": "code",
      "source": [
        "print(X)"
      ],
      "metadata": {
        "id": "CWmTy9Kg1WyM"
      },
      "execution_count": null,
      "outputs": []
    },
    {
      "cell_type": "code",
      "source": [
        "print(y)"
      ],
      "metadata": {
        "id": "pFxSxZJs1cx6"
      },
      "execution_count": null,
      "outputs": []
    },
    {
      "cell_type": "code",
      "source": [
        "X_test, y_test = test_df.iloc[:, 0:len(test_df.columns) -1], test_df.iloc[:, -1]"
      ],
      "metadata": {
        "id": "Df5K0j4d1nQf"
      },
      "execution_count": null,
      "outputs": []
    },
    {
      "cell_type": "code",
      "source": [
        "print(X_test)\n",
        "print(y_test)"
      ],
      "metadata": {
        "id": "D7sN4ij01qDF"
      },
      "execution_count": null,
      "outputs": []
    },
    {
      "cell_type": "code",
      "source": [
        "from sklearn.tree import DecisionTreeClassifier\n",
        "from sklearn.neighbors import KNeighborsClassifier\n",
        "from sklearn.svm import SVC\n",
        "from sklearn.naive_bayes import GaussianNB\n",
        "from sklearn.discriminant_analysis import QuadraticDiscriminantAnalysis\n",
        "from sklearn.metrics import accuracy_score # for evaluation"
      ],
      "metadata": {
        "id": "el8gkrhA1wde"
      },
      "execution_count": null,
      "outputs": []
    },
    {
      "cell_type": "code",
      "source": [
        "classifiers = [\n",
        "    DecisionTreeClassifier(),\n",
        "    KNeighborsClassifier(7), # because there are 6 different labels\n",
        "    SVC(),\n",
        "    GaussianNB(),\n",
        "    QuadraticDiscriminantAnalysis()\n",
        "]"
      ],
      "metadata": {
        "id": "ODGUL8Ph1zt_"
      },
      "execution_count": null,
      "outputs": []
    },
    {
      "cell_type": "code",
      "source": [
        "names = []\n",
        "scores = []\n",
        "\n",
        "for clf in classifiers:\n",
        "    clf = clf.fit(X, y)\n",
        "    y_pred = clf.predict(X_test)\n",
        "    \n",
        "    names.append(clf.__class__.__name__)\n",
        "    scores.append(accuracy_score(y_pred, y_test))\n",
        "\n",
        "score_df = pd.DataFrame({'Model': names, 'Score': scores}).set_index('Model')\n",
        "score_df"
      ],
      "metadata": {
        "id": "qBqs3ktY15GD"
      },
      "execution_count": null,
      "outputs": []
    },
    {
      "cell_type": "code",
      "source": [
        "import matplotlib.pyplot as plt\n",
        "%matplotlib inline\n",
        "\n",
        "ax = score_df.plot.bar()\n",
        "ax.set_xticklabels(score_df.index, rotation=45, fontsize=10)"
      ],
      "metadata": {
        "id": "qy-HLcBA18t9"
      },
      "execution_count": null,
      "outputs": []
    },
    {
      "cell_type": "code",
      "source": [
        "from sklearn.model_selection import GridSearchCV\n",
        "\n",
        "parameters = {\n",
        "    'kernel': ['linear', 'rbf', 'poly','sigmoid'],\n",
        "    'C': [100, 50, 20, 1, 0.1]\n",
        "}\n",
        "\n",
        "selector = GridSearchCV(SVC(), parameters, scoring='accuracy') # we only care about accuracy here\n",
        "selector.fit(X, y)\n",
        "\n",
        "print('Best parameter set found:')\n",
        "print(selector.best_params_)\n",
        "print('Detailed grid scores:')\n",
        "means = selector.cv_results_['mean_test_score']\n",
        "stds = selector.cv_results_['std_test_score']\n",
        "for mean, std, params in zip(means, stds, selector.cv_results_['params']):\n",
        "    print('%0.3f (+/-%0.03f) for %r' % (mean, std * 2, params))\n",
        "    print()"
      ],
      "metadata": {
        "id": "xBXIAfaB2CB-"
      },
      "execution_count": null,
      "outputs": []
    },
    {
      "cell_type": "code",
      "source": [
        "clf = SVC(kernel='linear', C=100).fit(X, y)\n",
        "y_pred = clf.predict(X_test)\n",
        "print('Accuracy score:', accuracy_score(y_test, y_pred))"
      ],
      "metadata": {
        "id": "Hau8AbkL2Esw"
      },
      "execution_count": null,
      "outputs": []
    }
  ]
}